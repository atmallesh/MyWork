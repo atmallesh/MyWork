{
 "cells": [
  {
   "cell_type": "code",
   "execution_count": 12,
   "metadata": {},
   "outputs": [
    {
     "name": "stdout",
     "output_type": "stream",
     "text": [
      "  Merchant id  OB_Succ  WA_Deli  Filed_Visit  Meet_Att  Txn_Cnt\n",
      "0    I0001408        0        4            0         0      132\n",
      "1    I0001473        0        4            0         0      125\n",
      "2    I0000451        1        5            0         0       21\n",
      "3    I0000724        0        4            0         0        4\n",
      "4    I0000718        0        4            0         0        9\n",
      "(685, 6)\n"
     ]
    }
   ],
   "source": [
    "import pandas as pd\n",
    "import numpy as np\n",
    "df=pd.read_csv(\"E:/01.ATM/RDSP/RDSP_Txn_May19.csv\")\n",
    "print(df.head())\n",
    "print(df.shape)"
   ]
  },
  {
   "cell_type": "code",
   "execution_count": 13,
   "metadata": {},
   "outputs": [
    {
     "name": "stdout",
     "output_type": "stream",
     "text": [
      "   OB_Succ  WA_Deli  Filed_Visit  Meet_Att  Txn_Cnt\n",
      "0        0        4            0         0      132\n",
      "1        0        4            0         0      125\n",
      "2        1        5            0         0       21\n",
      "3        0        4            0         0        4\n",
      "4        0        4            0         0        9\n"
     ]
    }
   ],
   "source": [
    "# To check correlation\n",
    "df.axes\n",
    "newdf=df.loc[:,['OB_Succ', 'WA_Deli', 'Filed_Visit', 'Meet_Att', 'Txn_Cnt']]\n",
    "print(newdf.head())"
   ]
  },
  {
   "cell_type": "code",
   "execution_count": 15,
   "metadata": {},
   "outputs": [
    {
     "data": {
      "text/html": [
       "<div>\n",
       "<style scoped>\n",
       "    .dataframe tbody tr th:only-of-type {\n",
       "        vertical-align: middle;\n",
       "    }\n",
       "\n",
       "    .dataframe tbody tr th {\n",
       "        vertical-align: top;\n",
       "    }\n",
       "\n",
       "    .dataframe thead th {\n",
       "        text-align: right;\n",
       "    }\n",
       "</style>\n",
       "<table border=\"1\" class=\"dataframe\">\n",
       "  <thead>\n",
       "    <tr style=\"text-align: right;\">\n",
       "      <th></th>\n",
       "      <th>OB_Succ</th>\n",
       "      <th>WA_Deli</th>\n",
       "      <th>Filed_Visit</th>\n",
       "      <th>Meet_Att</th>\n",
       "      <th>Txn_Cnt</th>\n",
       "    </tr>\n",
       "  </thead>\n",
       "  <tbody>\n",
       "    <tr>\n",
       "      <th>OB_Succ</th>\n",
       "      <td>1.000000</td>\n",
       "      <td>0.098025</td>\n",
       "      <td>0.039670</td>\n",
       "      <td>0.121980</td>\n",
       "      <td>-0.030917</td>\n",
       "    </tr>\n",
       "    <tr>\n",
       "      <th>WA_Deli</th>\n",
       "      <td>0.098025</td>\n",
       "      <td>1.000000</td>\n",
       "      <td>0.010156</td>\n",
       "      <td>-0.019120</td>\n",
       "      <td>0.086260</td>\n",
       "    </tr>\n",
       "    <tr>\n",
       "      <th>Filed_Visit</th>\n",
       "      <td>0.039670</td>\n",
       "      <td>0.010156</td>\n",
       "      <td>1.000000</td>\n",
       "      <td>-0.077254</td>\n",
       "      <td>-0.021456</td>\n",
       "    </tr>\n",
       "    <tr>\n",
       "      <th>Meet_Att</th>\n",
       "      <td>0.121980</td>\n",
       "      <td>-0.019120</td>\n",
       "      <td>-0.077254</td>\n",
       "      <td>1.000000</td>\n",
       "      <td>0.012896</td>\n",
       "    </tr>\n",
       "    <tr>\n",
       "      <th>Txn_Cnt</th>\n",
       "      <td>-0.030917</td>\n",
       "      <td>0.086260</td>\n",
       "      <td>-0.021456</td>\n",
       "      <td>0.012896</td>\n",
       "      <td>1.000000</td>\n",
       "    </tr>\n",
       "  </tbody>\n",
       "</table>\n",
       "</div>"
      ],
      "text/plain": [
       "              OB_Succ   WA_Deli  Filed_Visit  Meet_Att   Txn_Cnt\n",
       "OB_Succ      1.000000  0.098025     0.039670  0.121980 -0.030917\n",
       "WA_Deli      0.098025  1.000000     0.010156 -0.019120  0.086260\n",
       "Filed_Visit  0.039670  0.010156     1.000000 -0.077254 -0.021456\n",
       "Meet_Att     0.121980 -0.019120    -0.077254  1.000000  0.012896\n",
       "Txn_Cnt     -0.030917  0.086260    -0.021456  0.012896  1.000000"
      ]
     },
     "execution_count": 15,
     "metadata": {},
     "output_type": "execute_result"
    }
   ],
   "source": [
    "newdf.corr()"
   ]
  },
  {
   "cell_type": "code",
   "execution_count": 16,
   "metadata": {},
   "outputs": [
    {
     "data": {
      "image/png": "[encoded data removed]",
      "text/plain": [
       "<Figure size 432x288 with 2 Axes>"
      ]
     },
     "metadata": {
      "needs_background": "light"
     },
     "output_type": "display_data"
    }
   ],
   "source": [
    "import statsmodels.graphics.api as smg\n",
    "import matplotlib.pyplot as plt\n",
    "corr_matrix = np.corrcoef(newdf.T)\n",
    "smg.plot_corr(corr_matrix, xnames=newdf.columns)\n",
    "plt.show()"
   ]
  },
  {
   "cell_type": "code",
   "execution_count": 19,
   "metadata": {},
   "outputs": [
    {
     "name": "stdout",
     "output_type": "stream",
     "text": [
      "                            OLS Regression Results                            \n",
      "==============================================================================\n",
      "Dep. Variable:                Txn_Cnt   R-squared:                       0.001\n",
      "Model:                            OLS   Adj. R-squared:                 -0.001\n",
      "Method:                 Least Squares   F-statistic:                    0.6535\n",
      "Date:                Fri, 10 May 2019   Prob (F-statistic):              0.419\n",
      "Time:                        21:15:16   Log-Likelihood:                -3289.3\n",
      "No. Observations:                 685   AIC:                             6583.\n",
      "Df Residuals:                     683   BIC:                             6592.\n",
      "Df Model:                           1                                         \n",
      "Covariance Type:            nonrobust                                         \n",
      "==============================================================================\n",
      "                 coef    std err          t      P>|t|      [0.025      0.975]\n",
      "------------------------------------------------------------------------------\n",
      "Intercept     19.6805      1.458     13.498      0.000      16.818      22.543\n",
      "OB_Succ       -0.6893      0.853     -0.808      0.419      -2.363       0.985\n",
      "==============================================================================\n",
      "Omnibus:                      484.011   Durbin-Watson:                   1.431\n",
      "Prob(Omnibus):                  0.000   Jarque-Bera (JB):             6243.429\n",
      "Skew:                           3.096   Prob(JB):                         0.00\n",
      "Kurtosis:                      16.432   Cond. No.                         2.58\n",
      "==============================================================================\n",
      "\n",
      "Warnings:\n",
      "[1] Standard Errors assume that the covariance matrix of the errors is correctly specified.\n"
     ]
    }
   ],
   "source": [
    "import statsmodels.api as sm\n",
    "import statsmodels.formula.api as smf\n",
    "import matplotlib.pyplot as plt\n",
    "\n",
    "# OLS = Ordinary Least Squares - Regression\n",
    "# smf = stats model formula\n",
    "\n",
    "result = smf.ols('Txn_Cnt ~ OB_Succ', data=newdf).fit()\n",
    "print(result.summary())"
   ]
  },
  {
   "cell_type": "code",
   "execution_count": null,
   "metadata": {},
   "outputs": [],
   "source": []
  }
 ],
 "metadata": {
  "kernelspec": {
   "display_name": "Python 3",
   "language": "python",
   "name": "python3"
  },
  "language_info": {
   "codemirror_mode": {
    "name": "ipython",
    "version": 3
   },
   "file_extension": ".py",
   "mimetype": "text/x-python",
   "name": "python",
   "nbconvert_exporter": "python",
   "pygments_lexer": "ipython3",
   "version": "3.7.0"
  }
 },
 "nbformat": 4,
 "nbformat_minor": 2
}
